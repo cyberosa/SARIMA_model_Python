{
 "cells": [
  {
   "cell_type": "code",
   "execution_count": 11,
   "metadata": {},
   "outputs": [],
   "source": [
    "from statsmodels.tsa.arima_model import ARIMAResults\n",
    "import plotly\n",
    "import plotly.graph_objs as go\n",
    "from plotly.offline import *\n",
    "import numpy as np\n",
    "import pandas as pd\n",
    "import csv"
   ]
  },
  {
   "cell_type": "markdown",
   "metadata": {},
   "source": [
    "Load the model first"
   ]
  },
  {
   "cell_type": "code",
   "execution_count": 4,
   "metadata": {},
   "outputs": [
    {
     "name": "stdout",
     "output_type": "stream",
     "text": [
      "                               SARIMAX Results                                \n",
      "==============================================================================\n",
      "Dep. Variable:                      y   No. Observations:                 3649\n",
      "Model:               SARIMAX(3, 1, 1)   Log Likelihood               -8376.942\n",
      "Date:                Sat, 16 May 2020   AIC                          16763.884\n",
      "Time:                        18:35:51   BIC                          16794.890\n",
      "Sample:                             0   HQIC                         16774.927\n",
      "                               - 3649                                         \n",
      "Covariance Type:                  opg                                         \n",
      "==============================================================================\n",
      "                 coef    std err          z      P>|z|      [0.025      0.975]\n",
      "------------------------------------------------------------------------------\n",
      "ar.L1          0.4964      0.019     26.212      0.000       0.459       0.534\n",
      "ar.L2         -0.1304      0.018     -7.096      0.000      -0.166      -0.094\n",
      "ar.L3       5.042e-05      0.018      0.003      0.998      -0.036       0.036\n",
      "ma.L1         -0.9005      0.011    -82.448      0.000      -0.922      -0.879\n",
      "sigma2         5.8021      0.128     45.184      0.000       5.550       6.054\n",
      "===================================================================================\n",
      "Ljung-Box (Q):                       45.89   Jarque-Bera (JB):                14.28\n",
      "Prob(Q):                              0.24   Prob(JB):                         0.00\n",
      "Heteroskedasticity (H):               0.86   Skew:                             0.08\n",
      "Prob(H) (two-sided):                  0.01   Kurtosis:                         3.27\n",
      "===================================================================================\n",
      "\n",
      "Warnings:\n",
      "[1] Covariance matrix calculated using the outer product of gradients (complex-step).\n"
     ]
    }
   ],
   "source": [
    "# LOAD LAST MODEL TO MAKE PREDICTIONS\n",
    "# load model\n",
    "results = ARIMAResults.load('AUSTemp_SARIMA.pkl')\n",
    "print(results.summary())"
   ]
  },
  {
   "cell_type": "markdown",
   "metadata": {},
   "source": [
    "Make some predictions"
   ]
  },
  {
   "cell_type": "code",
   "execution_count": 7,
   "metadata": {},
   "outputs": [
    {
     "name": "stdout",
     "output_type": "stream",
     "text": [
      "[ 0.         25.83797676 15.3890801  ... 14.2370869  14.00358876\n",
      " 13.97592616]\n",
      "[-953 -689 -661 ...   12   12   12]\n",
      "[953 740 692 ...  16  15  15]\n"
     ]
    }
   ],
   "source": [
    "# 4 days prediction with 95% confidence interval\n",
    "nforecast = 4\n",
    "predict = results.get_prediction(end=results.nobs+ nforecast-1, exog=None)\n",
    "idx = np.arange(len(predict.predicted_mean))\n",
    "predict_ci = predict.conf_int(alpha=0.5)\n",
    "\n",
    "print(predict.predicted_mean)\n",
    "print(predict_ci[:, 0].astype(int))\n",
    "print(predict_ci[:, 1].astype(int))"
   ]
  },
  {
   "cell_type": "markdown",
   "metadata": {},
   "source": [
    "Paint the predictions with confidence intervals"
   ]
  },
  {
   "cell_type": "code",
   "execution_count": 12,
   "metadata": {},
   "outputs": [],
   "source": [
    "# read dataset and prepare data for the graph\n",
    "with open(\"daily-min-temperatures.csv\") as f:\n",
    "    temp_df = pd.DataFrame(csv.DictReader(f))\n",
    "temp_df['Date'] = pd.to_datetime(temp_df.Date)\n",
    "temp_df.set_index('Date')\n",
    "temp_df['Temp'] = pd.to_numeric(temp_df.Temp)"
   ]
  },
  {
   "cell_type": "code",
   "execution_count": 14,
   "metadata": {},
   "outputs": [
    {
     "data": {
      "text/plain": [
       "'AUSTemp_SARIMA.html'"
      ]
     },
     "execution_count": 14,
     "metadata": {},
     "output_type": "execute_result"
    }
   ],
   "source": [
    "# finally generating the graph\n",
    "actual = go.Scatter(\n",
    "    x=temp_df.index,\n",
    "    y=temp_df['Temp'].values,\n",
    "    name = \"actual\",\n",
    "    mode = 'markers',\n",
    "    line = dict(color = '#0F2045'),\n",
    "    opacity = 0.8)\n",
    "\n",
    "predicted = go.Scatter(\n",
    "    x=temp_df.index,\n",
    "    y=predict.predicted_mean,\n",
    "    name = \"predicted\",\n",
    "    line = dict(color = '#0F91CF', dash = 'dash'),\n",
    "    opacity = 0.8)\n",
    "\n",
    "predicted_low = go.Scatter(\n",
    "    x=temp_df.index,\n",
    "    y=predict_ci[:, 0],\n",
    "    mode='none',\n",
    "    name = \"low_ci\",\n",
    "    fill = 'tonexty',\n",
    "    fillcolor='rgba(145, 217, 232, 0.7)')\n",
    "\n",
    "predicted2 = go.Scatter(\n",
    "    x=temp_df.index,\n",
    "    y=predict.predicted_mean,\n",
    "    name = \"predicted2\",\n",
    "    line = dict(color = '#0F91CF', dash = 'dash'),\n",
    "    opacity = 0.8,\n",
    "    showlegend = False)\n",
    "\n",
    "predicted_high = go.Scatter(\n",
    "    x=temp_df.index,\n",
    "    y=predict_ci[:, 1],\n",
    "    mode='none',\n",
    "    name = \"high_ci\",\n",
    "    fill = 'tonexty',\n",
    "    fillcolor='rgba(145, 217, 232, 0.7)')\n",
    "\n",
    "data_fig = [actual, predicted, predicted_low, predicted2, predicted_high]\n",
    "\n",
    "layout = go.Layout(title=\"Model 16th May 2020 - Temperatures\",\n",
    "                xaxis=dict(title='Day'),\n",
    "                yaxis=dict(title='Temperature'))\n",
    "\n",
    "fig = go.Figure(data=data_fig, layout=layout)\n",
    "plotly.offline.plot(fig, filename='AUSTemp_SARIMA.html')"
   ]
  },
  {
   "cell_type": "markdown",
   "metadata": {},
   "source": [
    "Now you can go to your local folder and open the file in a browser. You can select and play with the graph."
   ]
  }
 ],
 "metadata": {
  "kernelspec": {
   "display_name": "Python 3",
   "language": "python",
   "name": "python3"
  },
  "language_info": {
   "codemirror_mode": {
    "name": "ipython",
    "version": 3
   },
   "file_extension": ".py",
   "mimetype": "text/x-python",
   "name": "python",
   "nbconvert_exporter": "python",
   "pygments_lexer": "ipython3",
   "version": "3.7.7"
  }
 },
 "nbformat": 4,
 "nbformat_minor": 2
}
